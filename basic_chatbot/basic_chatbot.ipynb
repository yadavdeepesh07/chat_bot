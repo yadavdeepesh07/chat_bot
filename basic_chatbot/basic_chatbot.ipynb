{
 "cells": [
  {
   "cell_type": "markdown",
   "id": "b9f726a0",
   "metadata": {},
   "source": [
    "## Building a Chatbot"
   ]
  },
  {
   "cell_type": "code",
   "execution_count": 18,
   "id": "76c89263",
   "metadata": {},
   "outputs": [],
   "source": [
    "from typing import Annotated\n",
    "\n",
    "from typing_extensions import TypedDict\n",
    "\n",
    "from langgraph.graph import StateGraph , START ,END\n",
    "\n",
    "from langgraph.graph.message import add_messages"
   ]
  },
  {
   "cell_type": "code",
   "execution_count": 19,
   "id": "43223ed9",
   "metadata": {},
   "outputs": [],
   "source": [
    "class State(TypedDict):\n",
    "    # messages have the type \"list\". The add_messages function in the annotation defines how this state key should be updated.\n",
    "    # In this case, it appends messages to the list, rather than overwriting them.\n",
    "    messages: Annotated[list, add_messages]\n",
    "\n",
    "graph_builder = StateGraph(State)"
   ]
  },
  {
   "cell_type": "code",
   "execution_count": 20,
   "id": "55d4f970",
   "metadata": {},
   "outputs": [
    {
     "data": {
      "text/plain": [
       "<langgraph.graph.state.StateGraph at 0x15b099f5310>"
      ]
     },
     "execution_count": 20,
     "metadata": {},
     "output_type": "execute_result"
    }
   ],
   "source": [
    "graph_builder"
   ]
  },
  {
   "cell_type": "code",
   "execution_count": 21,
   "id": "f8c48d79",
   "metadata": {},
   "outputs": [
    {
     "data": {
      "text/plain": [
       "True"
      ]
     },
     "execution_count": 21,
     "metadata": {},
     "output_type": "execute_result"
    }
   ],
   "source": [
    "import os \n",
    "from dotenv import load_dotenv\n",
    "load_dotenv()"
   ]
  },
  {
   "cell_type": "code",
   "execution_count": 22,
   "id": "04cd14ea",
   "metadata": {},
   "outputs": [],
   "source": [
    "from langchain_groq import ChatGroq \n",
    "from langchain.chat_models import init_chat_model\n",
    "\n",
    "llm = ChatGroq(model =\"llama-3-8b-8192\")"
   ]
  },
  {
   "cell_type": "code",
   "execution_count": 24,
   "id": "22c510fa",
   "metadata": {},
   "outputs": [
    {
     "data": {
      "text/plain": [
       "ChatGroq(client=<groq.resources.chat.completions.Completions object at 0x0000015B0944FA10>, async_client=<groq.resources.chat.completions.AsyncCompletions object at 0x0000015B09C7C590>, model_name='llama-3-8b-8192', model_kwargs={}, groq_api_key=SecretStr('**********'))"
      ]
     },
     "execution_count": 24,
     "metadata": {},
     "output_type": "execute_result"
    }
   ],
   "source": [
    "llm"
   ]
  },
  {
   "cell_type": "code",
   "execution_count": null,
   "id": "848230ff",
   "metadata": {},
   "outputs": [
    {
     "data": {
      "text/plain": [
       "ChatGroq(client=<groq.resources.chat.completions.Completions object at 0x0000015B09BD6D70>, async_client=<groq.resources.chat.completions.AsyncCompletions object at 0x0000015B09BD7360>, model_name='llama-3-8b-8192', model_kwargs={}, groq_api_key=SecretStr('**********'))"
      ]
     },
     "execution_count": 27,
     "metadata": {},
     "output_type": "execute_result"
    }
   ],
   "source": [
    "llm = init_chat_model(\"groq:llama-3-8b-8192\")\n",
    "llm\n",
    "# another way to initialize the model\n",
    "# llm = init_chat_model(\"groq:llama-3-8b-\n",
    "# if i'm using openai, i can use the following code\n",
    "# llm = init_chat_model(\"openai:gpt-4o\")"
   ]
  },
  {
   "cell_type": "code",
   "execution_count": 28,
   "id": "3beec8e7",
   "metadata": {},
   "outputs": [],
   "source": [
    "# node function to add a message to the state\n",
    "def chatbot(state:State):\n",
    "    # This function will be called when the graph is executed.\n",
    "    # It takes the current state as an argument and returns a new state.\n",
    "    return {\"messages\": [llminvke(state[\"messages\"])]}\n"
   ]
  },
  {
   "cell_type": "code",
   "execution_count": 29,
   "id": "64592d3b",
   "metadata": {},
   "outputs": [],
   "source": [
    "graph_builder = StateGraph(State)\n",
    "\n",
    "# adding nodes here \n",
    "graph_builder.add_node(\"llmchatbot\",chatbot)\n",
    "\n",
    "# adding an edge from the start node to the llmchatbot node\n",
    "graph_builder.add_edge(START, \"llmchatbot\")\n",
    "graph_builder.add_edge(\"llmchatbot\", END)\n",
    "\n",
    "# compiling the graph\n",
    "graph = graph_builder.compile()\n",
    "\n"
   ]
  },
  {
   "cell_type": "code",
   "execution_count": 32,
   "id": "0652e79b",
   "metadata": {},
   "outputs": [
    {
     "data": {
      "image/png": "[encoded data removed]",
      "text/plain": [
       "<IPython.core.display.Image object>"
      ]
     },
     "metadata": {},
     "output_type": "display_data"
    }
   ],
   "source": [
    "## visualizing the graph \n",
    "\n",
    "from IPython.display import display,Image\n",
    "\n",
    "try:\n",
    "\n",
    "    display(Image(graph.get_graph().draw_mermaid_png()))\n",
    "except Exception :\n",
    "    pass"
   ]
  },
  {
   "cell_type": "code",
   "execution_count": 33,
   "id": "147b943c",
   "metadata": {},
   "outputs": [],
   "source": [
    "#42:00 endd time \n"
   ]
  },
  {
   "cell_type": "code",
   "execution_count": null,
   "id": "69878512",
   "metadata": {},
   "outputs": [],
   "source": []
  }
 ],
 "metadata": {
  "kernelspec": {
   "display_name": "chat_bot",
   "language": "python",
   "name": "python3"
  },
  "language_info": {
   "codemirror_mode": {
    "name": "ipython",
    "version": 3
   },
   "file_extension": ".py",
   "mimetype": "text/x-python",
   "name": "python",
   "nbconvert_exporter": "python",
   "pygments_lexer": "ipython3",
   "version": "3.13.5"
  }
 },
 "nbformat": 4,
 "nbformat_minor": 5
}
